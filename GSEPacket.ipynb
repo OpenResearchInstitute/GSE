{
 "cells": [
  {
   "cell_type": "code",
   "execution_count": 17,
   "metadata": {},
   "outputs": [],
   "source": [
    "#-=-=-=-=-=-=-=-=-=-=-=-=-=-=-=-=-=\n",
    "# GSE Packet creation station starts here\n",
    "#-=-=-=-=-=-=-=-=-=-=-=-=-=-=-=-=-="
   ]
  },
  {
   "cell_type": "code",
   "execution_count": 24,
   "metadata": {},
   "outputs": [],
   "source": [
    "class GSE:\n",
    "    def __init__(self,\n",
    "                 num_BBF, \n",
    "                 start_indicator, \n",
    "                 stop_indicator, \n",
    "                 label_type, \n",
    "                 GSE_length, \n",
    "                 fragment_ID, \n",
    "                 total_length,\n",
    "                 H_LEN, \n",
    "                 H_TYPE,\n",
    "                 zero_prefix = '0b00000'):\n",
    "        self.num_BBF = num_BBF\n",
    "        self.start_indicator = start_indicator\n",
    "        self.stop_indicator = stop_indicator\n",
    "        self.label_type = label_type\n",
    "        self.GSE_length = GSE_length\n",
    "        self.fragment_ID = fragment_ID\n",
    "        self.total_length = total_length\n",
    "        self.H_LEN = H_LEN\n",
    "        self.H_TYPE = H_TYPE"
   ]
  },
  {
   "cell_type": "code",
   "execution_count": null,
   "metadata": {},
   "outputs": [],
   "source": []
  }
 ],
 "metadata": {
  "kernelspec": {
   "display_name": "Python 3",
   "language": "python",
   "name": "python3"
  },
  "language_info": {
   "codemirror_mode": {
    "name": "ipython",
    "version": 3
   },
   "file_extension": ".py",
   "mimetype": "text/x-python",
   "name": "python",
   "nbconvert_exporter": "python",
   "pygments_lexer": "ipython3",
   "version": "3.7.7"
  }
 },
 "nbformat": 4,
 "nbformat_minor": 4
}
